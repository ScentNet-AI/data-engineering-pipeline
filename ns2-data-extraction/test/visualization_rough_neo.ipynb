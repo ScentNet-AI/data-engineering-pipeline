{
  "nbformat": 4,
  "nbformat_minor": 0,
  "metadata": {
    "colab": {
      "private_outputs": true,
      "provenance": []
    },
    "kernelspec": {
      "name": "python3",
      "display_name": "Python 3"
    },
    "language_info": {
      "name": "python"
    }
  },
  "cells": [
    {
      "cell_type": "code",
      "execution_count": null,
      "metadata": {
        "id": "0KZscx90McOG"
      },
      "outputs": [],
      "source": [
        "import pandas as pd\n",
        "\n",
        "# Load the data\n",
        "data = pd.read_csv('/content/sample_data/saved_new_data.csv')\n",
        "\n",
        "# Display the first few rows of the dataframe\n",
        "data.head()"
      ]
    },
    {
      "cell_type": "code",
      "source": [],
      "metadata": {
        "id": "rgCjuNIYXaJJ"
      },
      "execution_count": null,
      "outputs": []
    },
    {
      "cell_type": "markdown",
      "source": [
        "# Time series plot"
      ],
      "metadata": {
        "id": "M9DLh359M8KL"
      }
    },
    {
      "cell_type": "code",
      "source": [
        "import matplotlib.pyplot as plt\n",
        "\n",
        "# Assuming each column is a channel and the first column is time or index\n",
        "channels = data.columns[1:]  # Adjust if your format includes a time/index column\n",
        "sampling_rate = 1000  # Example: 1000 Hz, adjust as per your setup\n",
        "\n",
        "# Plot the first few seconds of EEG data for the first few channels\n",
        "plt.figure(figsize=(15, 5))\n",
        "for channel in channels[:5]:  # Adjust the slice for more/less channels\n",
        "    plt.plot(data[channel][:sampling_rate * 2], label=channel)  # Plotting first 2 seconds\n",
        "\n",
        "plt.title('EEG Time Series Plot')\n",
        "plt.xlabel('Time (milliseconds)')\n",
        "plt.ylabel('Amplitude (uV)')\n",
        "plt.legend()\n",
        "plt.show()\n"
      ],
      "metadata": {
        "id": "PZQoociMMxXz"
      },
      "execution_count": null,
      "outputs": []
    },
    {
      "cell_type": "markdown",
      "source": [
        "# Spectral plot"
      ],
      "metadata": {
        "id": "cbnRsTHdNPj0"
      }
    },
    {
      "cell_type": "code",
      "source": [
        "import numpy as np\n",
        "\n",
        "# Assuming using the first channel for demonstration\n",
        "fft_output = np.fft.fft(data[channels[0]][:sampling_rate])  # Use one second of data\n",
        "frequencies = np.fft.fftfreq(sampling_rate, 1/sampling_rate)\n",
        "\n",
        "# Plot the frequency spectrum\n",
        "plt.figure(figsize=(10, 5))\n",
        "plt.plot(frequencies[:len(frequencies)//2], np.abs(fft_output)[:len(frequencies)//2])\n",
        "plt.title('Frequency Spectrum of EEG')\n",
        "plt.xlabel('Frequency (Hz)')\n",
        "plt.ylabel('Amplitude')\n",
        "plt.show()\n"
      ],
      "metadata": {
        "id": "LhFqslM0NCPk"
      },
      "execution_count": null,
      "outputs": []
    },
    {
      "cell_type": "markdown",
      "source": [
        "# Topographical Map"
      ],
      "metadata": {
        "id": "9uyi0iFxNo3L"
      }
    },
    {
      "cell_type": "code",
      "source": [
        "!pip install mne"
      ],
      "metadata": {
        "id": "TrzJCacqN4kE"
      },
      "execution_count": null,
      "outputs": []
    },
    {
      "cell_type": "code",
      "source": [
        "# import mne\n",
        "\n",
        "# # Assuming the first column is an index and others are EEG channels\n",
        "# channels = data.columns[1:]  # Adjust if different\n",
        "# sampling_rate = 1000  # Adjust this according to your data specifics\n",
        "\n",
        "# # Create an Info object (without the montage parameter)\n",
        "# info = mne.create_info(ch_names=list(channels), sfreq=sampling_rate, ch_types='eeg')\n",
        "\n",
        "# # Create the RawArray\n",
        "# raw = mne.io.RawArray(data[channels].values.T, info)  # Transpose data to fit (n_channels, n_times)\n",
        "\n",
        "# # Define the montage (electrode positions), assuming standard 10-20 system\n",
        "# montage = mne.channels.make_standard_montage('standard_1020')\n",
        "# raw.set_montage(montage)  # Set the montage\n",
        "\n",
        "# # Plotting the topographical map of EEG data\n",
        "# raw.plot_psd(tmax=np.inf)  # PSD plot\n",
        "# raw.plot_projs_topomap()  # Topomap plot\n"
      ],
      "metadata": {
        "id": "OhPlFHB3NXkO"
      },
      "execution_count": null,
      "outputs": []
    },
    {
      "cell_type": "code",
      "source": [
        "# Example mapping: Adjust according to your actual electrode layout\n",
        "channel_map = {\n",
        "    '0': 'Fp1', '1': 'Fpz', '2': 'Fp2', '3': 'F7', '4': 'F3', '5': 'Fz', '6': 'F4', '7': 'F8',\n",
        "    '8': 'FC5', '9': 'FC1', '10': 'FC2', '11': 'FC6', '12': 'M1', '13': 'T7', '14': 'C3', '15': 'Cz',\n",
        "    '16': 'C4', '17': 'T8', '18': 'M2', '19': 'CP5', '20': 'CP1', '21': 'CP2', '22': 'CP6', '23': 'P7',\n",
        "    '24': 'P3', '25': 'Pz', '26': 'P4', '27': 'P8', '28': 'POz', '29': 'O1', '30': 'Oz', '31': 'O2',\n",
        "    '32': 'AF7', '33': 'AF3', '34': 'AF4', '35': 'AF8', '36': 'F5', '37': 'F1', '38': 'F2', '39': 'F6',\n",
        "    '40': 'FT7', '41': 'FC3', '42': 'FC4', '43': 'FT8', '44': 'TP7', '45': 'C5', '46': 'C1', '47': 'C2',\n",
        "    '48': 'C6', '49': 'TP8', '50': 'CP3', '51': 'CP4', '52': 'P5', '53': 'P1', '54': 'P2', '55': 'P6',\n",
        "    '56': 'PO5', '57': 'PO3', '58': 'PO4', '59': 'PO6', '60': 'CB1', '61': 'CB2', '62': 'S1', '63': 'S2'\n",
        "}\n",
        "\n",
        "# Rename channels\n",
        "data.rename(columns=channel_map, inplace=True, index=None)"
      ],
      "metadata": {
        "id": "RRGOITEtNuNd"
      },
      "execution_count": null,
      "outputs": []
    },
    {
      "cell_type": "code",
      "source": [
        "data.head()"
      ],
      "metadata": {
        "id": "GC25aAAaQEUf"
      },
      "execution_count": null,
      "outputs": []
    },
    {
      "cell_type": "code",
      "source": [
        "data.drop('Unnamed: 0', inplace=True, axis=1)"
      ],
      "metadata": {
        "id": "uQt553uQQIsX"
      },
      "execution_count": null,
      "outputs": []
    },
    {
      "cell_type": "code",
      "source": [
        "data.head()"
      ],
      "metadata": {
        "id": "S-fPv4rmQupI"
      },
      "execution_count": null,
      "outputs": []
    },
    {
      "cell_type": "code",
      "source": [
        "import mne\n",
        "# Select only the columns that are actually mapped (ignores unmapped channels)\n",
        "channels_to_use = [channel for channel in channel_map.values() if channel in data.columns]\n",
        "\n",
        "# Create an MNE Info object with the channels that we have data for\n",
        "info = mne.create_info(ch_names=channels_to_use, sfreq=1000, ch_types='eeg')\n",
        "\n",
        "# Create the RawArray with the data from the channels we are using\n",
        "raw = mne.io.RawArray(data[channels_to_use].T.to_numpy(), info)\n",
        "\n",
        "# Define the montage (electrode positions)\n",
        "montage = mne.channels.make_standard_montage('standard_1020')\n",
        "\n",
        "# Set the montage, ignoring channels that are not present in the montage\n",
        "raw.set_montage(montage, on_missing='ignore')\n",
        "\n",
        "# Visualize the data\n",
        "raw.plot_psd(fmax=50)  # Showing PSD up to 50 Hz\n",
        "# raw.plot_projs_topomap()  # Topomap"
      ],
      "metadata": {
        "id": "ZUzZXSpZQ-k5"
      },
      "execution_count": null,
      "outputs": []
    },
    {
      "cell_type": "code",
      "source": [],
      "metadata": {
        "id": "sOjmvQIHRPe4"
      },
      "execution_count": null,
      "outputs": []
    }
  ]
}