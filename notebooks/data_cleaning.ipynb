{
 "cells": [
  {
   "cell_type": "code",
   "execution_count": 1,
   "metadata": {},
   "outputs": [
    {
     "data": {
      "text/html": [
       "<div>\n",
       "<style scoped>\n",
       "    .dataframe tbody tr th:only-of-type {\n",
       "        vertical-align: middle;\n",
       "    }\n",
       "\n",
       "    .dataframe tbody tr th {\n",
       "        vertical-align: top;\n",
       "    }\n",
       "\n",
       "    .dataframe thead th {\n",
       "        text-align: right;\n",
       "    }\n",
       "</style>\n",
       "<table border=\"1\" class=\"dataframe\">\n",
       "  <thead>\n",
       "    <tr style=\"text-align: right;\">\n",
       "      <th></th>\n",
       "      <th>Unnamed: 0</th>\n",
       "      <th>0</th>\n",
       "      <th>1</th>\n",
       "      <th>2</th>\n",
       "      <th>3</th>\n",
       "      <th>4</th>\n",
       "      <th>5</th>\n",
       "      <th>6</th>\n",
       "      <th>7</th>\n",
       "      <th>8</th>\n",
       "      <th>...</th>\n",
       "      <th>54</th>\n",
       "      <th>55</th>\n",
       "      <th>56</th>\n",
       "      <th>57</th>\n",
       "      <th>58</th>\n",
       "      <th>59</th>\n",
       "      <th>60</th>\n",
       "      <th>61</th>\n",
       "      <th>62</th>\n",
       "      <th>63</th>\n",
       "    </tr>\n",
       "  </thead>\n",
       "  <tbody>\n",
       "    <tr>\n",
       "      <th>0</th>\n",
       "      <td>0</td>\n",
       "      <td>609.75</td>\n",
       "      <td>594.50</td>\n",
       "      <td>593.00</td>\n",
       "      <td>563.25</td>\n",
       "      <td>555.50</td>\n",
       "      <td>547.00</td>\n",
       "      <td>518.50</td>\n",
       "      <td>519.5</td>\n",
       "      <td>508.75</td>\n",
       "      <td>...</td>\n",
       "      <td>140.25</td>\n",
       "      <td>108.50</td>\n",
       "      <td>105.50</td>\n",
       "      <td>113.50</td>\n",
       "      <td>112.75</td>\n",
       "      <td>69.00</td>\n",
       "      <td>89.75</td>\n",
       "      <td>51.75</td>\n",
       "      <td>-8178.75</td>\n",
       "      <td>-8179.50</td>\n",
       "    </tr>\n",
       "    <tr>\n",
       "      <th>1</th>\n",
       "      <td>1</td>\n",
       "      <td>-230.75</td>\n",
       "      <td>-167.75</td>\n",
       "      <td>-170.50</td>\n",
       "      <td>-221.75</td>\n",
       "      <td>-203.50</td>\n",
       "      <td>-202.50</td>\n",
       "      <td>-174.00</td>\n",
       "      <td>-181.5</td>\n",
       "      <td>-175.25</td>\n",
       "      <td>...</td>\n",
       "      <td>-688.00</td>\n",
       "      <td>-650.25</td>\n",
       "      <td>-640.50</td>\n",
       "      <td>-683.75</td>\n",
       "      <td>-675.50</td>\n",
       "      <td>-836.50</td>\n",
       "      <td>-669.75</td>\n",
       "      <td>-867.25</td>\n",
       "      <td>-8175.75</td>\n",
       "      <td>-8176.50</td>\n",
       "    </tr>\n",
       "    <tr>\n",
       "      <th>2</th>\n",
       "      <td>2</td>\n",
       "      <td>-941.75</td>\n",
       "      <td>-840.50</td>\n",
       "      <td>-829.50</td>\n",
       "      <td>-876.00</td>\n",
       "      <td>-845.50</td>\n",
       "      <td>-845.75</td>\n",
       "      <td>-771.25</td>\n",
       "      <td>-780.0</td>\n",
       "      <td>-769.50</td>\n",
       "      <td>...</td>\n",
       "      <td>-1216.75</td>\n",
       "      <td>-1142.50</td>\n",
       "      <td>-1133.25</td>\n",
       "      <td>-1198.50</td>\n",
       "      <td>-1195.25</td>\n",
       "      <td>-1407.75</td>\n",
       "      <td>-1165.50</td>\n",
       "      <td>-1440.50</td>\n",
       "      <td>-8172.75</td>\n",
       "      <td>-8173.25</td>\n",
       "    </tr>\n",
       "    <tr>\n",
       "      <th>3</th>\n",
       "      <td>3</td>\n",
       "      <td>-1284.25</td>\n",
       "      <td>-1189.50</td>\n",
       "      <td>-1183.75</td>\n",
       "      <td>-1209.25</td>\n",
       "      <td>-1166.75</td>\n",
       "      <td>-1163.25</td>\n",
       "      <td>-1083.50</td>\n",
       "      <td>-1058.5</td>\n",
       "      <td>-1075.25</td>\n",
       "      <td>...</td>\n",
       "      <td>-1400.25</td>\n",
       "      <td>-1305.50</td>\n",
       "      <td>-1291.00</td>\n",
       "      <td>-1360.50</td>\n",
       "      <td>-1359.25</td>\n",
       "      <td>-1579.50</td>\n",
       "      <td>-1309.25</td>\n",
       "      <td>-1600.25</td>\n",
       "      <td>8191.75</td>\n",
       "      <td>-2930.25</td>\n",
       "    </tr>\n",
       "    <tr>\n",
       "      <th>4</th>\n",
       "      <td>4</td>\n",
       "      <td>-1145.50</td>\n",
       "      <td>-1077.25</td>\n",
       "      <td>-1066.75</td>\n",
       "      <td>-1066.25</td>\n",
       "      <td>-1029.75</td>\n",
       "      <td>-1027.50</td>\n",
       "      <td>-958.75</td>\n",
       "      <td>-944.0</td>\n",
       "      <td>-954.25</td>\n",
       "      <td>...</td>\n",
       "      <td>-896.25</td>\n",
       "      <td>-836.75</td>\n",
       "      <td>-821.25</td>\n",
       "      <td>-862.50</td>\n",
       "      <td>-861.75</td>\n",
       "      <td>-967.00</td>\n",
       "      <td>-821.50</td>\n",
       "      <td>-974.00</td>\n",
       "      <td>8191.75</td>\n",
       "      <td>8191.75</td>\n",
       "    </tr>\n",
       "  </tbody>\n",
       "</table>\n",
       "<p>5 rows × 65 columns</p>\n",
       "</div>"
      ],
      "text/plain": [
       "   Unnamed: 0        0        1        2        3        4        5        6  \\\n",
       "0           0   609.75   594.50   593.00   563.25   555.50   547.00   518.50   \n",
       "1           1  -230.75  -167.75  -170.50  -221.75  -203.50  -202.50  -174.00   \n",
       "2           2  -941.75  -840.50  -829.50  -876.00  -845.50  -845.75  -771.25   \n",
       "3           3 -1284.25 -1189.50 -1183.75 -1209.25 -1166.75 -1163.25 -1083.50   \n",
       "4           4 -1145.50 -1077.25 -1066.75 -1066.25 -1029.75 -1027.50  -958.75   \n",
       "\n",
       "        7        8  ...       54       55       56       57       58       59  \\\n",
       "0   519.5   508.75  ...   140.25   108.50   105.50   113.50   112.75    69.00   \n",
       "1  -181.5  -175.25  ...  -688.00  -650.25  -640.50  -683.75  -675.50  -836.50   \n",
       "2  -780.0  -769.50  ... -1216.75 -1142.50 -1133.25 -1198.50 -1195.25 -1407.75   \n",
       "3 -1058.5 -1075.25  ... -1400.25 -1305.50 -1291.00 -1360.50 -1359.25 -1579.50   \n",
       "4  -944.0  -954.25  ...  -896.25  -836.75  -821.25  -862.50  -861.75  -967.00   \n",
       "\n",
       "        60       61       62       63  \n",
       "0    89.75    51.75 -8178.75 -8179.50  \n",
       "1  -669.75  -867.25 -8175.75 -8176.50  \n",
       "2 -1165.50 -1440.50 -8172.75 -8173.25  \n",
       "3 -1309.25 -1600.25  8191.75 -2930.25  \n",
       "4  -821.50  -974.00  8191.75  8191.75  \n",
       "\n",
       "[5 rows x 65 columns]"
      ]
     },
     "execution_count": 1,
     "metadata": {},
     "output_type": "execute_result"
    }
   ],
   "source": [
    "import pandas as pd\n",
    "import numpy as np\n",
    "\n",
    "\n",
    "eeg_data = pd.read_csv(\"../data/sample_output/saved_new_data.csv\")\n",
    "\n",
    "eeg_data.head()"
   ]
  },
  {
   "cell_type": "code",
   "execution_count": 2,
   "metadata": {},
   "outputs": [],
   "source": [
    "# filtering EEG Signals with different types of filters\n",
    "from scipy.signal import butter, lfilter, filtfilt, iirnotch\n"
   ]
  },
  {
   "cell_type": "code",
   "execution_count": 3,
   "metadata": {},
   "outputs": [],
   "source": [
    "fs = 256 # Sampling rate in Hz\n",
    "lowcut = 0.5 # High-pass filter cutoff frequency\n",
    "highcut = 40 # Low-pass filter cutoff frequency\n",
    "notch_freq = 50 # Notch Frequency\n",
    "notch_quality = 30.0 # Quality factor for notch filter"
   ]
  },
  {
   "cell_type": "code",
   "execution_count": 4,
   "metadata": {},
   "outputs": [],
   "source": [
    "# Design a Butterworth filter which serves as a bandpass filter\n",
    "def butter_filter(data, lowcut, highcut, fs, order=5, btype=\"band\"):\n",
    "    nyquist = 0.5 * fs\n",
    "    low = lowcut/nyquist\n",
    "    high = highcut/nyquist\n",
    "    b, a = butter(order, [low,high], btype=btype)\n",
    "    y = filtfilt(b, a, data)\n",
    "    return y"
   ]
  },
  {
   "cell_type": "code",
   "execution_count": 5,
   "metadata": {},
   "outputs": [],
   "source": [
    "def apply_notch_filter(data, freq, fs, quality):\n",
    "    w0 = freq / (0.5 * fs)\n",
    "    b, a = iirnotch(w0, quality)\n",
    "    y = filtfilt(b, a, data)\n",
    "    return y\n"
   ]
  },
  {
   "cell_type": "code",
   "execution_count": 6,
   "metadata": {},
   "outputs": [],
   "source": [
    "# dropping off Unnamed column\n",
    "eeg_data = eeg_data.drop(columns=\"Unnamed: 0\")"
   ]
  },
  {
   "cell_type": "code",
   "execution_count": 7,
   "metadata": {},
   "outputs": [
    {
     "data": {
      "text/plain": [
       "array([[  609.75,   594.5 ,   593.  , ...,    51.75, -8178.75, -8179.5 ],\n",
       "       [ -230.75,  -167.75,  -170.5 , ...,  -867.25, -8175.75, -8176.5 ],\n",
       "       [ -941.75,  -840.5 ,  -829.5 , ..., -1440.5 , -8172.75, -8173.25],\n",
       "       ...,\n",
       "       [ -695.25,  -705.25,  -691.25, ...,  -597.  ,  8191.75,  8191.75],\n",
       "       [   54.5 ,   -31.5 ,   -30.  , ...,   454.25,  8191.75,  8190.75],\n",
       "       [  821.  ,   684.75,   675.  , ...,  1214.75,  8191.75,  8188.25]])"
      ]
     },
     "execution_count": 7,
     "metadata": {},
     "output_type": "execute_result"
    }
   ],
   "source": [
    "eeg_data.values"
   ]
  },
  {
   "cell_type": "code",
   "execution_count": 8,
   "metadata": {},
   "outputs": [],
   "source": [
    "filtered_data = butter_filter(eeg_data.values, lowcut, highcut, fs, order=5, btype=\"band\")"
   ]
  },
  {
   "cell_type": "code",
   "execution_count": 9,
   "metadata": {},
   "outputs": [],
   "source": [
    "filtered_data = apply_notch_filter(filtered_data, notch_freq, fs, notch_quality)"
   ]
  },
  {
   "cell_type": "code",
   "execution_count": 10,
   "metadata": {},
   "outputs": [
    {
     "data": {
      "text/plain": [
       "(5005, 64)"
      ]
     },
     "execution_count": 10,
     "metadata": {},
     "output_type": "execute_result"
    }
   ],
   "source": [
    "filtered_data.shape"
   ]
  },
  {
   "cell_type": "code",
   "execution_count": 11,
   "metadata": {},
   "outputs": [],
   "source": [
    "import neo\n",
    "\n",
    "# Assuming 'file_path' is the path to your .ns2 file\n",
    "reader = neo.BlackrockIO(filename=\"../data/sample/datafile003.ns2\")\n",
    "blk = reader.read_block()\n"
   ]
  },
  {
   "cell_type": "code",
   "execution_count": 13,
   "metadata": {},
   "outputs": [
    {
     "name": "stdout",
     "output_type": "stream",
     "text": [
      "All Channel Names: ['chan1' 'chan2' 'chan3' 'chan4' 'chan5' 'chan6' 'chan7' 'chan8' 'chan9'\n",
      " 'chan10' 'chan11' 'chan12' 'chan13' 'chan14' 'chan15' 'chan16' 'chan17'\n",
      " 'chan18' 'chan19' 'chan20' 'chan21' 'chan22' 'chan23' 'chan24' 'chan25'\n",
      " 'chan26' 'chan27' 'chan28' 'chan29' 'chan30' 'chan31' 'chan32']\n",
      "EOG Channels: []\n"
     ]
    }
   ],
   "source": [
    "\n",
    "# Get all signal channels\n",
    "all_channels = blk.segments[0].analogsignals[0].array_annotations['channel_names']\n",
    "print(\"All Channel Names:\", all_channels)\n",
    "\n",
    "# If you know the indices or names of EOG channels, you could identify them like so:\n",
    "eog_channels = [ch for ch in all_channels if 'EOG' in ch]\n",
    "print(\"EOG Channels:\", eog_channels)\n"
   ]
  },
  {
   "cell_type": "code",
   "execution_count": null,
   "metadata": {},
   "outputs": [],
   "source": []
  }
 ],
 "metadata": {
  "kernelspec": {
   "display_name": "base",
   "language": "python",
   "name": "python3"
  },
  "language_info": {
   "codemirror_mode": {
    "name": "ipython",
    "version": 3
   },
   "file_extension": ".py",
   "mimetype": "text/x-python",
   "name": "python",
   "nbconvert_exporter": "python",
   "pygments_lexer": "ipython3",
   "version": "3.11.5"
  }
 },
 "nbformat": 4,
 "nbformat_minor": 2
}
